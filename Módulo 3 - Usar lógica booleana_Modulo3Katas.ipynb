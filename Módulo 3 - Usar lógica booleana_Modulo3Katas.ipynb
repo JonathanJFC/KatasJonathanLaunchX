{
 "cells": [
  {
   "cell_type": "markdown",
   "metadata": {},
   "source": [
    "# Ejercicio - Escribir declaraciones if, else, y elif"
   ]
  },
  {
   "cell_type": "code",
   "execution_count": 6,
   "metadata": {},
   "outputs": [
    {
     "name": "stdout",
     "output_type": "stream",
     "text": [
      "un asteroide se acerca a la Tierra demasiado rápido y con posibilidad de estrellarse\n"
     ]
    }
   ],
   "source": [
    "asteroide = 20\n",
    "\n",
    "if asteroide > 18:\n",
    "        print('un asteroide se acerca a la Tierra demasiado rápido y con posibilidad de estrellarse')\n",
    "else:\n",
    "        print('un asteroide se mantendra demasiado lejos de la tierra')"
   ]
  },
  {
   "cell_type": "code",
   "execution_count": 7,
   "metadata": {},
   "outputs": [
    {
     "name": "stdout",
     "output_type": "stream",
     "text": [
      "un asteroide se esta acercando a la Tierra demasiado rápido hay que estar atentos\n"
     ]
    }
   ],
   "source": [
    "\n",
    "asteroide = 20\n",
    "\n",
    "if asteroide > 18:\n",
    "    # intrucción(es) a ejecutar\n",
    "    if asteroide == 25:\n",
    "        print('un asteroide se acerca a la Tierra demasiado rápido y con posibilidad de estrellarse')\n",
    "    else: \n",
    "        print('un asteroide se esta acercando a la Tierra demasiado rápido hay que estar atentos')\n",
    "elif asteroide == 18:\n",
    "        print('un asteroide pasara lejos de la tierra')\n",
    "else:\n",
    "        print('un asteroide se mantendra demasiado lejos de la tierra')"
   ]
  },
  {
   "cell_type": "code",
   "execution_count": 8,
   "metadata": {},
   "outputs": [
    {
     "name": "stdout",
     "output_type": "stream",
     "text": [
      "un asteroide golpeara la Tierra, causaría mucho daño.\n"
     ]
    }
   ],
   "source": [
    "\n",
    "asteroide_dimension = 26\n",
    "velocidad_asteroide = 40\n",
    "if asteroide_dimension < 25 and velocidad_asteroide < 25:\n",
    "        print('un asteroides se quemará en la atmósfera de la Tierra')\n",
    "elif asteroide_dimension > 25 and asteroide_dimension < 1000:\n",
    "        print('un asteroide golpeara la Tierra, causaría mucho daño.')\n",
    "elif velocidad_asteroide >= 20:\n",
    "        print('a veces produce un rayo de luz que se puede ver desde la Tierra')\n",
    "else:\n",
    "    print('nada que ver aqui')      "
   ]
  }
 ],
 "metadata": {
  "interpreter": {
   "hash": "33541a670e8887513ebdf0f19cec6625b51694c5ef6b1c7e83282c54d5cd54e5"
  },
  "kernelspec": {
   "display_name": "Python 3.10.0 64-bit",
   "language": "python",
   "name": "python3"
  },
  "language_info": {
   "codemirror_mode": {
    "name": "ipython",
    "version": 3
   },
   "file_extension": ".py",
   "mimetype": "text/x-python",
   "name": "python",
   "nbconvert_exporter": "python",
   "pygments_lexer": "ipython3",
   "version": "3.10.0"
  },
  "orig_nbformat": 4
 },
 "nbformat": 4,
 "nbformat_minor": 2
}
